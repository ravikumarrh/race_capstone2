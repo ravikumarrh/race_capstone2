{
 "cells": [
  {
   "cell_type": "code",
   "execution_count": 3,
   "metadata": {},
   "outputs": [],
   "source": [
    "import nltk\n",
    "from nltk.stem import WordNetLemmatizer\n",
    "lemmatizer = WordNetLemmatizer()\n",
    "import json\n",
    "import pickle\n",
    "\n",
    "import numpy as np\n",
    "from tensorflow.keras.models import Sequential\n",
    "from tensorflow.keras.layers import Dense, Activation, Dropout\n",
    "from tensorflow.keras.optimizers import SGD\n",
    "import random\n",
    "\n",
    "words=[]\n",
    "classes = []\n",
    "documents = []\n",
    "ignore_words = ['?', '!']\n",
    "data_file = open('/Users/ravi/Capstone2/chatbot/intents.json').read()\n",
    "intents = json.loads(data_file)"
   ]
  },
  {
   "cell_type": "code",
   "execution_count": 4,
   "metadata": {},
   "outputs": [
    {
     "name": "stderr",
     "output_type": "stream",
     "text": [
      "[nltk_data] Downloading package wordnet to /Users/ravi/nltk_data...\n",
      "[nltk_data]   Package wordnet is already up-to-date!\n"
     ]
    },
    {
     "data": {
      "text/plain": [
       "True"
      ]
     },
     "execution_count": 4,
     "metadata": {},
     "output_type": "execute_result"
    }
   ],
   "source": [
    "nltk.download('wordnet')"
   ]
  },
  {
   "cell_type": "code",
   "execution_count": 5,
   "metadata": {},
   "outputs": [],
   "source": [
    "for intent in intents['intents']:\n",
    "    for pattern in intent['patterns']:\n",
    "\n",
    "        #tokenize each word\n",
    "        w = nltk.word_tokenize(pattern)\n",
    "        words.extend(w)\n",
    "        #add documents in the corpus\n",
    "        documents.append((w, intent['tag']))\n",
    "\n",
    "        # add to our classes list\n",
    "        if intent['tag'] not in classes:\n",
    "            classes.append(intent['tag'])"
   ]
  },
  {
   "cell_type": "code",
   "execution_count": 6,
   "metadata": {},
   "outputs": [
    {
     "name": "stdout",
     "output_type": "stream",
     "text": [
      "70 documents\n",
      "7 classes ['Grocery, Movie, Dining & Utilities', 'Online Shopping & Landmark Stores', 'Travel & Accommodation', 'goodbye', 'greeting', 'options', 'thanks']\n",
      "80 unique lemmatized words [\"'s\", ',', 'accommodation', 'amazon', 'anyone', 'are', 'awesome', 'be', 'bill', 'booking', 'bookmyshow', 'broadband', 'bye', 'can', 'chatting', 'could', 'day', 'departmental', 'dine', 'dining', 'do', 'domestic', 'eat', 'economy', 'electricity', 'flight', 'for', 'gas', 'good', 'goodbye', 'grocery', 'hello', 'help', 'helpful', 'helping', 'hey', 'hi', 'hola', 'homestay', 'hotel', 'how', 'international', 'is', 'landmark', 'later', 'lifestyle', 'max', 'me', 'movie', 'multiplex', 'next', 'nice', 'offered', 'online', 'order', 'out', 'provide', 'pusrchase', 'resort', 'restaurant', 'see', 'shopping', 'spar', 'stay', 'store', 'support', 'thank', 'thanks', 'that', 'there', 'ticket', 'till', 'time', 'to', 'train', 'travel', 'utility', 'water', 'what', 'you']\n"
     ]
    }
   ],
   "source": [
    "# lemmatize, lower each word and remove duplicates\n",
    "words = [lemmatizer.lemmatize(w.lower()) for w in words if w not in ignore_words]\n",
    "words = sorted(list(set(words)))\n",
    "# sort classes\n",
    "classes = sorted(list(set(classes)))\n",
    "# documents = combination between patterns and intents\n",
    "print (len(documents), \"documents\")\n",
    "# classes = intents\n",
    "print (len(classes), \"classes\", classes)\n",
    "# words = all words, vocabulary\n",
    "print (len(words), \"unique lemmatized words\", words)\n",
    "\n",
    "pickle.dump(words,open('/Users/ravi/Capstone2/chatbot/words.pkl','wb'))\n",
    "pickle.dump(classes,open('/Users/ravi/Capstone2/chatbot/classes.pkl','wb'))"
   ]
  },
  {
   "cell_type": "code",
   "execution_count": 7,
   "metadata": {},
   "outputs": [
    {
     "name": "stdout",
     "output_type": "stream",
     "text": [
      "Training data created\n"
     ]
    },
    {
     "name": "stderr",
     "output_type": "stream",
     "text": [
      "<ipython-input-7-451aefdaa425>:24: VisibleDeprecationWarning: Creating an ndarray from ragged nested sequences (which is a list-or-tuple of lists-or-tuples-or ndarrays with different lengths or shapes) is deprecated. If you meant to do this, you must specify 'dtype=object' when creating the ndarray.\n",
      "  training = np.array(training)\n"
     ]
    }
   ],
   "source": [
    "# create our training data\n",
    "training = []\n",
    "# create an empty array for our output\n",
    "output_empty = [0] * len(classes)\n",
    "# training set, bag of words for each sentence\n",
    "for doc in documents:\n",
    "    # initialize our bag of words\n",
    "    bag = []\n",
    "    # list of tokenized words for the pattern\n",
    "    pattern_words = doc[0]\n",
    "    # lemmatize each word - create base word, in attempt to represent related words\n",
    "    pattern_words = [lemmatizer.lemmatize(word.lower()) for word in pattern_words]\n",
    "    # create our bag of words array with 1, if word match found in current pattern\n",
    "    for w in words:\n",
    "        bag.append(1) if w in pattern_words else bag.append(0)\n",
    "\n",
    "    # output is a '0' for each tag and '1' for current tag (for each pattern)\n",
    "    output_row = list(output_empty)\n",
    "    output_row[classes.index(doc[1])] = 1\n",
    "\n",
    "    training.append([bag, output_row])\n",
    "# shuffle our features and turn into np.array\n",
    "random.shuffle(training)\n",
    "training = np.array(training)\n",
    "# create train and test lists. X - patterns, Y - intents\n",
    "train_x = list(training[:,0])\n",
    "train_y = list(training[:,1])\n",
    "print(\"Training data created\")"
   ]
  },
  {
   "cell_type": "code",
   "execution_count": 9,
   "metadata": {},
   "outputs": [
    {
     "name": "stdout",
     "output_type": "stream",
     "text": [
      "Epoch 1/40\n",
      "14/14 [==============================] - 0s 830us/step - loss: 1.9214 - accuracy: 0.2571\n",
      "Epoch 2/40\n",
      "14/14 [==============================] - 0s 850us/step - loss: 1.8108 - accuracy: 0.3286\n",
      "Epoch 3/40\n",
      "14/14 [==============================] - 0s 1ms/step - loss: 1.7806 - accuracy: 0.3429\n",
      "Epoch 4/40\n",
      "14/14 [==============================] - 0s 1ms/step - loss: 1.6894 - accuracy: 0.3286\n",
      "Epoch 5/40\n",
      "14/14 [==============================] - 0s 1ms/step - loss: 1.6060 - accuracy: 0.3857\n",
      "Epoch 6/40\n",
      "14/14 [==============================] - 0s 1ms/step - loss: 1.6378 - accuracy: 0.3429\n",
      "Epoch 7/40\n",
      "14/14 [==============================] - 0s 1ms/step - loss: 1.4845 - accuracy: 0.4000\n",
      "Epoch 8/40\n",
      "14/14 [==============================] - 0s 1ms/step - loss: 1.4993 - accuracy: 0.4000\n",
      "Epoch 9/40\n",
      "14/14 [==============================] - 0s 1ms/step - loss: 1.3219 - accuracy: 0.4857\n",
      "Epoch 10/40\n",
      "14/14 [==============================] - 0s 1ms/step - loss: 1.2523 - accuracy: 0.4714\n",
      "Epoch 11/40\n",
      "14/14 [==============================] - 0s 1ms/step - loss: 1.1503 - accuracy: 0.5571\n",
      "Epoch 12/40\n",
      "14/14 [==============================] - 0s 1ms/step - loss: 1.1976 - accuracy: 0.6143\n",
      "Epoch 13/40\n",
      "14/14 [==============================] - 0s 2ms/step - loss: 1.0019 - accuracy: 0.7000\n",
      "Epoch 14/40\n",
      "14/14 [==============================] - 0s 1ms/step - loss: 0.9144 - accuracy: 0.6714\n",
      "Epoch 15/40\n",
      "14/14 [==============================] - 0s 1ms/step - loss: 0.7832 - accuracy: 0.7571\n",
      "Epoch 16/40\n",
      "14/14 [==============================] - 0s 1ms/step - loss: 0.7710 - accuracy: 0.8143\n",
      "Epoch 17/40\n",
      "14/14 [==============================] - 0s 1ms/step - loss: 0.6806 - accuracy: 0.7857\n",
      "Epoch 18/40\n",
      "14/14 [==============================] - 0s 1ms/step - loss: 0.6296 - accuracy: 0.8571\n",
      "Epoch 19/40\n",
      "14/14 [==============================] - 0s 1ms/step - loss: 0.5179 - accuracy: 0.9000\n",
      "Epoch 20/40\n",
      "14/14 [==============================] - 0s 1ms/step - loss: 0.5831 - accuracy: 0.7857\n",
      "Epoch 21/40\n",
      "14/14 [==============================] - 0s 1ms/step - loss: 0.4105 - accuracy: 0.9143\n",
      "Epoch 22/40\n",
      "14/14 [==============================] - 0s 1ms/step - loss: 0.3965 - accuracy: 0.9143\n",
      "Epoch 23/40\n",
      "14/14 [==============================] - 0s 1000us/step - loss: 0.4189 - accuracy: 0.9143\n",
      "Epoch 24/40\n",
      "14/14 [==============================] - 0s 997us/step - loss: 0.3635 - accuracy: 0.9143\n",
      "Epoch 25/40\n",
      "14/14 [==============================] - 0s 2ms/step - loss: 0.3120 - accuracy: 0.9286\n",
      "Epoch 26/40\n",
      "14/14 [==============================] - 0s 1ms/step - loss: 0.3635 - accuracy: 0.8714\n",
      "Epoch 27/40\n",
      "14/14 [==============================] - 0s 1ms/step - loss: 0.3158 - accuracy: 0.9143\n",
      "Epoch 28/40\n",
      "14/14 [==============================] - 0s 1ms/step - loss: 0.2659 - accuracy: 0.9429\n",
      "Epoch 29/40\n",
      "14/14 [==============================] - 0s 1ms/step - loss: 0.2659 - accuracy: 0.9000\n",
      "Epoch 30/40\n",
      "14/14 [==============================] - 0s 936us/step - loss: 0.2647 - accuracy: 0.9000\n",
      "Epoch 31/40\n",
      "14/14 [==============================] - 0s 1ms/step - loss: 0.2958 - accuracy: 0.9286\n",
      "Epoch 32/40\n",
      "14/14 [==============================] - 0s 1ms/step - loss: 0.2214 - accuracy: 0.9286\n",
      "Epoch 33/40\n",
      "14/14 [==============================] - 0s 1ms/step - loss: 0.1846 - accuracy: 0.9429\n",
      "Epoch 34/40\n",
      "14/14 [==============================] - 0s 1ms/step - loss: 0.2473 - accuracy: 0.9286\n",
      "Epoch 35/40\n",
      "14/14 [==============================] - 0s 1ms/step - loss: 0.2295 - accuracy: 0.9571\n",
      "Epoch 36/40\n",
      "14/14 [==============================] - 0s 1ms/step - loss: 0.1509 - accuracy: 0.9857\n",
      "Epoch 37/40\n",
      "14/14 [==============================] - 0s 1ms/step - loss: 0.2017 - accuracy: 0.9429\n",
      "Epoch 38/40\n",
      "14/14 [==============================] - 0s 1ms/step - loss: 0.1092 - accuracy: 0.9857\n",
      "Epoch 39/40\n",
      "14/14 [==============================] - 0s 912us/step - loss: 0.1906 - accuracy: 0.9857\n",
      "Epoch 40/40\n",
      "14/14 [==============================] - 0s 1ms/step - loss: 0.2104 - accuracy: 0.9571\n",
      "model created\n"
     ]
    }
   ],
   "source": [
    "# Create model - 3 layers. First layer 128 neurons, second layer 64 neurons and 3rd output layer contains number of neurons\n",
    "# equal to number of intents to predict output intent with softmax\n",
    "model = Sequential()\n",
    "model.add(Dense(128, input_shape=(len(train_x[0]),), activation='relu'))\n",
    "model.add(Dropout(0.5))\n",
    "model.add(Dense(64, activation='relu'))\n",
    "model.add(Dropout(0.5))\n",
    "model.add(Dense(len(train_y[0]), activation='softmax'))\n",
    "\n",
    "# Compile model. Stochastic gradient descent with Nesterov accelerated gradient gives good results for this model\n",
    "sgd = SGD(lr=0.01, decay=1e-6, momentum=0.9, nesterov=True)\n",
    "model.compile(loss='categorical_crossentropy', optimizer=sgd, metrics=['accuracy'])\n",
    "\n",
    "#fitting and saving the model \n",
    "hist = model.fit(np.array(train_x), np.array(train_y), epochs=40, batch_size=5, verbose=1)\n",
    "model.save('/Users/ravi/Capstone2/chatbot/chatbot_model.h5', hist)\n",
    "\n",
    "print(\"model created\")"
   ]
  },
  {
   "cell_type": "code",
   "execution_count": 10,
   "metadata": {},
   "outputs": [],
   "source": [
    "import nltk\n",
    "from nltk.stem import WordNetLemmatizer\n",
    "lemmatizer = WordNetLemmatizer()\n",
    "import pickle\n",
    "import numpy as np\n",
    "\n",
    "from tensorflow.keras.models import load_model\n",
    "model = load_model('/Users/ravi/Capstone2/chatbot/chatbot_model.h5')\n",
    "import json\n",
    "import random\n",
    "intents = json.loads(open('/Users/ravi/Capstone2/chatbot/intents.json').read())\n",
    "words = pickle.load(open('/Users/ravi/Capstone2/chatbot/words.pkl','rb'))\n",
    "classes = pickle.load(open('/Users/ravi/Capstone2/chatbot/classes.pkl','rb'))"
   ]
  },
  {
   "cell_type": "code",
   "execution_count": 11,
   "metadata": {},
   "outputs": [],
   "source": [
    "def clean_up_sentence(sentence):\n",
    "    # tokenize the pattern - split words into array\n",
    "    sentence_words = nltk.word_tokenize(sentence)\n",
    "    # stem each word - create short form for word\n",
    "    sentence_words = [lemmatizer.lemmatize(word.lower()) for word in sentence_words]\n",
    "    return sentence_words\n",
    "# return bag of words array: 0 or 1 for each word in the bag that exists in the sentence\n",
    "\n",
    "def bow(sentence, words, show_details=True):\n",
    "    # tokenize the pattern\n",
    "    sentence_words = clean_up_sentence(sentence)\n",
    "    # bag of words - matrix of N words, vocabulary matrix\n",
    "    bag = [0]*len(words) \n",
    "    for s in sentence_words:\n",
    "        for i,w in enumerate(words):\n",
    "            if w == s: \n",
    "                # assign 1 if current word is in the vocabulary position\n",
    "                bag[i] = 1\n",
    "                if show_details:\n",
    "                    print (\"found in bag: %s\" % w)\n",
    "    return(np.array(bag))\n",
    "\n",
    "def predict_class(sentence, model):\n",
    "    # filter out predictions below a threshold\n",
    "    p = bow(sentence, words,show_details=False)\n",
    "    res = model.predict(np.array([p]))[0]\n",
    "    ERROR_THRESHOLD = 0.25\n",
    "    results = [[i,r] for i,r in enumerate(res) if r>ERROR_THRESHOLD]\n",
    "    # sort by strength of probability\n",
    "    results.sort(key=lambda x: x[1], reverse=True)\n",
    "    return_list = []\n",
    "    for r in results:\n",
    "        return_list.append({\"intent\": classes[r[0]], \"probability\": str(r[1])})\n",
    "    return return_list"
   ]
  },
  {
   "cell_type": "code",
   "execution_count": 12,
   "metadata": {},
   "outputs": [],
   "source": [
    "def getResponse(ints, intents_json):\n",
    "    tag = ints[0]['intent']\n",
    "    list_of_intents = intents_json['intents']\n",
    "    for i in list_of_intents:\n",
    "        if(i['tag']== tag):\n",
    "            result = random.choice(i['responses'])\n",
    "            break\n",
    "    return result\n",
    "\n",
    "def chatbot_response(text):\n",
    "    ints = predict_class(text, model)\n",
    "    res = getResponse(ints, intents)\n",
    "    return res"
   ]
  },
  {
   "cell_type": "code",
   "execution_count": null,
   "metadata": {},
   "outputs": [],
   "source": [
    "#Creating GUI with tkinter\n",
    "import tkinter\n",
    "from tkinter import *\n",
    "\n",
    "\n",
    "def send():\n",
    "    msg = EntryBox.get(\"1.0\",'end-1c').strip()\n",
    "    EntryBox.delete(\"0.0\",END)\n",
    "\n",
    "    if msg != '':\n",
    "        ChatLog.config(state=NORMAL)\n",
    "        ChatLog.insert(END, \"You: \" + msg + '\\n\\n')\n",
    "        ChatLog.config(foreground=\"#442265\", font=(\"Calibri\", 10 ))\n",
    "\n",
    "        res = chatbot_response(msg)\n",
    "        ChatLog.insert(END, \"Bot: \" + res + '\\n\\n')\n",
    "\n",
    "        ChatLog.config(state=DISABLED)\n",
    "        ChatLog.yview(END)\n",
    "\n",
    "base = Tk()\n",
    "base.title(\"Credit Card Recommender\")\n",
    "base.geometry(\"400x500\")\n",
    "base.resizable(width=FALSE, height=FALSE)\n",
    "\n",
    "#Create Chat window\n",
    "ChatLog = Text(base, bd=0, bg=\"white\", height=\"8\", width=\"50\", font=\"Calibri\",)\n",
    "\n",
    "ChatLog.config(state=DISABLED)\n",
    "\n",
    "#Bind scrollbar to Chat window\n",
    "scrollbar = Scrollbar(base, command=ChatLog.yview, cursor=\"heart\")\n",
    "ChatLog['yscrollcommand'] = scrollbar.set\n",
    "\n",
    "#Create Button to send message\n",
    "SendButton = Button(base, font=(\"Calibri\",10,'bold'), text=\"Send\", width=\"12\", height=5,\n",
    "                    bd=0, bg=\"#32de97\", activebackground=\"#3c9d9b\",fg='#ffffff',\n",
    "                    command= send )\n",
    "\n",
    "#Create the box to enter message\n",
    "EntryBox = Text(base, bd=0, bg=\"white\",width=\"29\", height=\"5\", font=\"Calibri\")\n",
    "#EntryBox.bind(\"<Return>\", send)\n",
    "\n",
    "\n",
    "#Place all components on the screen\n",
    "scrollbar.place(x=376,y=6, height=386)\n",
    "ChatLog.place(x=6,y=6, height=386, width=370)\n",
    "EntryBox.place(x=128, y=401, height=90, width=265)\n",
    "SendButton.place(x=6, y=401, height=90)\n",
    "\n",
    "base.mainloop()"
   ]
  },
  {
   "cell_type": "code",
   "execution_count": null,
   "metadata": {},
   "outputs": [],
   "source": []
  },
  {
   "cell_type": "code",
   "execution_count": null,
   "metadata": {},
   "outputs": [],
   "source": []
  },
  {
   "cell_type": "code",
   "execution_count": null,
   "metadata": {},
   "outputs": [],
   "source": []
  },
  {
   "cell_type": "code",
   "execution_count": null,
   "metadata": {},
   "outputs": [],
   "source": []
  },
  {
   "cell_type": "code",
   "execution_count": null,
   "metadata": {},
   "outputs": [],
   "source": []
  }
 ],
 "metadata": {
  "kernelspec": {
   "display_name": "Python 3",
   "language": "python",
   "name": "python3"
  },
  "language_info": {
   "codemirror_mode": {
    "name": "ipython",
    "version": 3
   },
   "file_extension": ".py",
   "mimetype": "text/x-python",
   "name": "python",
   "nbconvert_exporter": "python",
   "pygments_lexer": "ipython3",
   "version": "3.8.3"
  }
 },
 "nbformat": 4,
 "nbformat_minor": 4
}
