{
 "cells": [
  {
   "cell_type": "code",
   "execution_count": 1,
   "metadata": {},
   "outputs": [],
   "source": [
    "from IPython.core.interactiveshell import InteractiveShell\n",
    "InteractiveShell.ast_node_interactivity='all'"
   ]
  },
  {
   "cell_type": "code",
   "execution_count": 2,
   "metadata": {},
   "outputs": [],
   "source": [
    "import numpy as np\n",
    "import pandas as pd\n",
    "import requests\n",
    "from bs4 import BeautifulSoup"
   ]
  },
  {
   "cell_type": "code",
   "execution_count": 3,
   "metadata": {},
   "outputs": [],
   "source": [
    "# Making a GET request\n",
    "r = requests.get('https://www.hdfcbank.com/personal/pay/cards')\n",
    "\n",
    "# Parsing the HTML\n",
    "soup = BeautifulSoup(r.content, 'html.parser')\n",
    "#soup = BeautifulSoup(r.text, 'html')"
   ]
  },
  {
   "cell_type": "code",
   "execution_count": 4,
   "metadata": {},
   "outputs": [
    {
     "name": "stdout",
     "output_type": "stream",
     "text": [
      "[<h2 class=\"card-name\">Millennia Cards.</h2>, <h2 class=\"card-name\">Credit Cards</h2>, <h2 class=\"card-name\">Debit Cards</h2>, <h2 class=\"card-name\">Prepaid Cards</h2>, <h2 class=\"card-name\">Forex Cards</h2>, <h2 class=\"card-name\">Commercial Credit Cards</h2>]\n",
      "['Millennia Cards.', 'Credit Cards', 'Debit Cards', 'Prepaid Cards', 'Forex Cards', 'Commercial Credit Cards']\n"
     ]
    }
   ],
   "source": [
    "card_category = soup.find_all('h2', class_=\"card-name\")\n",
    "print(card_category)\n",
    "cards = []\n",
    "for i in range(len(card_category)):\n",
    "    card = card_category[i].text\n",
    "    cards.append(card)\n",
    "    \n",
    "print(cards)"
   ]
  },
  {
   "cell_type": "code",
   "execution_count": 5,
   "metadata": {},
   "outputs": [
    {
     "data": {
      "text/plain": [
       "['Millennia Cards.',\n",
       " 'Credit Cards',\n",
       " 'Debit Cards',\n",
       " 'Prepaid Cards',\n",
       " 'Forex Cards',\n",
       " 'Commercial Credit Cards']"
      ]
     },
     "execution_count": 5,
     "metadata": {},
     "output_type": "execute_result"
    }
   ],
   "source": [
    "cards"
   ]
  },
  {
   "cell_type": "code",
   "execution_count": 6,
   "metadata": {},
   "outputs": [
    {
     "data": {
      "text/plain": [
       "[['millennia-cards'],\n",
       " ['credit-cards'],\n",
       " ['debit-cards'],\n",
       " ['prepaid-cards'],\n",
       " ['forex-cards'],\n",
       " ['commercial-credit-cards']]"
      ]
     },
     "execution_count": 6,
     "metadata": {},
     "output_type": "execute_result"
    }
   ],
   "source": [
    "card_category = [[] for _ in range(len(cards))]\n",
    "\n",
    "for i in range(len(cards)):\n",
    "    card_cat = str.lower(cards[i])\n",
    "    card_cat = card_cat.replace(\" \",\"-\")\n",
    "    card_cat = card_cat.replace(\".\",\"\")\n",
    "    card_category[i].append(card_cat)\n",
    "card_category"
   ]
  },
  {
   "cell_type": "code",
   "execution_count": 7,
   "metadata": {},
   "outputs": [
    {
     "data": {
      "text/plain": [
       "'millennia-cards'"
      ]
     },
     "execution_count": 7,
     "metadata": {},
     "output_type": "execute_result"
    },
    {
     "data": {
      "text/plain": [
       "'credit-cards'"
      ]
     },
     "execution_count": 7,
     "metadata": {},
     "output_type": "execute_result"
    },
    {
     "data": {
      "text/plain": [
       "'debit-cards'"
      ]
     },
     "execution_count": 7,
     "metadata": {},
     "output_type": "execute_result"
    },
    {
     "data": {
      "text/plain": [
       "'prepaid-cards'"
      ]
     },
     "execution_count": 7,
     "metadata": {},
     "output_type": "execute_result"
    },
    {
     "data": {
      "text/plain": [
       "'forex-cards'"
      ]
     },
     "execution_count": 7,
     "metadata": {},
     "output_type": "execute_result"
    },
    {
     "data": {
      "text/plain": [
       "'commercial-credit-cards'"
      ]
     },
     "execution_count": 7,
     "metadata": {},
     "output_type": "execute_result"
    }
   ],
   "source": [
    "card_category[0][0]\n",
    "card_category[1][0]\n",
    "card_category[2][0]\n",
    "card_category[3][0]\n",
    "card_category[4][0]\n",
    "card_category[5][0]"
   ]
  },
  {
   "cell_type": "code",
   "execution_count": 44,
   "metadata": {},
   "outputs": [],
   "source": [
    "def card_cat(card_category_name,all_cards):\n",
    "    for each_card in range(len(all_cards)):\n",
    "        card_category_list.append(card_category_name)\n",
    "    return card_category_list\n",
    "\n",
    "# def card_sub_category(card_subcat,all_cards):\n",
    "#     for each_card_subcat in range(len(all_cards)):\n",
    "#         subcat = soup.find('h2').text\n",
    "#         card_sub_category_list.append(subcat)\n",
    "\n",
    "def cards_list(all_cards):\n",
    "    for j in range(len(all_cards)):\n",
    "        card = all_cards[j].text\n",
    "        cards.append(card)\n",
    "    return cards\n",
    "    \n",
    "               \n",
    "def ul_offers(all_offers_ul):\n",
    "    for i in range(len(all_offers_ul)):\n",
    "        ul_data = all_offers_ul[i].find('ul')\n",
    "        ul.append(ul_data)\n",
    "    return ul\n",
    "\n",
    "def offers(offers_ul): \n",
    "    card_offers = [[] for _ in range(len(offers_ul))]\n",
    "    for j in range(len(offers_ul)):   \n",
    "        for offer in offers_ul[j].find_all(\"li\"):\n",
    "            card_offers[j].append(offer.text)\n",
    "    return card_offers"
   ]
  },
  {
   "cell_type": "code",
   "execution_count": 45,
   "metadata": {},
   "outputs": [
    {
     "name": "stdout",
     "output_type": "stream",
     "text": [
      "https://www.hdfcbank.com/personal/pay/cards/millennia-cards\n",
      "https://www.hdfcbank.com/personal/pay/cards/credit-cards\n",
      "https://www.hdfcbank.com/personal/pay/cards/debit-cards\n",
      "https://www.hdfcbank.com/personal/pay/cards/prepaid-cards\n",
      "https://www.hdfcbank.com/personal/pay/cards/forex-cards\n",
      "https://www.hdfcbank.com/personal/pay/cards/commercial-credit-cards\n"
     ]
    }
   ],
   "source": [
    "main_link = 'https://www.hdfcbank.com/personal/pay/cards/'\n",
    "cards = []\n",
    "ul = []\n",
    "card_category_list = []\n",
    "#card_sub_category_list = []\n",
    "for i in range(len(card_category)):\n",
    "    card_category_name = card_category[i][0]\n",
    "    card_website = main_link + card_category_name\n",
    "    print(card_website)\n",
    "    r = requests.get(card_website)\n",
    "    soup = BeautifulSoup(r.content, 'html.parser')\n",
    "    all_cards = soup.find_all('span', class_=\"card-name\")\n",
    "    list_of_cards = cards_list(all_cards)\n",
    "    all_offers_ul = soup.find_all('div', class_=\"offer-dtl mB10\")\n",
    "    offers_ul = ul_offers(all_offers_ul)\n",
    "    card_offers = offers(offers_ul)\n",
    "    cat_list = card_cat(card_category_name,all_cards)\n",
    "    #card_subcat = soup.find_all('div', class_=\"divContent\")\n",
    "    #card_sub_cat = card_sub_category(card_subcat,all_cards)"
   ]
  },
  {
   "cell_type": "code",
   "execution_count": 47,
   "metadata": {},
   "outputs": [],
   "source": [
    "#cat_list\n",
    "#card_category_list"
   ]
  },
  {
   "cell_type": "code",
   "execution_count": 30,
   "metadata": {},
   "outputs": [
    {
     "data": {
      "text/plain": [
       "(109, 6)"
      ]
     },
     "execution_count": 30,
     "metadata": {},
     "output_type": "execute_result"
    },
    {
     "data": {
      "text/plain": [
       "['Offer1', 'Offer2', 'Offer3', 'Offer4', 'Offer5', 'Offer6']"
      ]
     },
     "execution_count": 30,
     "metadata": {},
     "output_type": "execute_result"
    },
    {
     "data": {
      "text/html": [
       "<div>\n",
       "<style scoped>\n",
       "    .dataframe tbody tr th:only-of-type {\n",
       "        vertical-align: middle;\n",
       "    }\n",
       "\n",
       "    .dataframe tbody tr th {\n",
       "        vertical-align: top;\n",
       "    }\n",
       "\n",
       "    .dataframe thead th {\n",
       "        text-align: right;\n",
       "    }\n",
       "</style>\n",
       "<table border=\"1\" class=\"dataframe\">\n",
       "  <thead>\n",
       "    <tr style=\"text-align: right;\">\n",
       "      <th></th>\n",
       "      <th>Category</th>\n",
       "      <th>Cards</th>\n",
       "      <th>Offer1</th>\n",
       "      <th>Offer2</th>\n",
       "      <th>Offer3</th>\n",
       "      <th>Offer4</th>\n",
       "      <th>Offer5</th>\n",
       "      <th>Offer6</th>\n",
       "    </tr>\n",
       "  </thead>\n",
       "  <tbody>\n",
       "    <tr>\n",
       "      <th>0</th>\n",
       "      <td>millennia-cards</td>\n",
       "      <td>Millennia Debit Card</td>\n",
       "      <td>Get up to ₹4800 CashBack every year</td>\n",
       "      <td>5% CashBack on shopping via PAYZAPP &amp; SmartBUY</td>\n",
       "      <td>2.5% CashBack on all online spends</td>\n",
       "      <td>1% CashBack on all offline spends and Wallet r...</td>\n",
       "      <td>None</td>\n",
       "      <td>None</td>\n",
       "    </tr>\n",
       "    <tr>\n",
       "      <th>1</th>\n",
       "      <td>millennia-cards</td>\n",
       "      <td>Millennia Credit Card</td>\n",
       "      <td>5% Cashback on Amazon, BookMyShow, Cult.fit, F...</td>\n",
       "      <td>1% cashback on all other spends (except Fuel) ...</td>\n",
       "      <td>₹1000 worth gift vouchers on spends of ₹1,00,0...</td>\n",
       "      <td>8 Complimentary Domestic Airport Lounge access...</td>\n",
       "      <td>None</td>\n",
       "      <td>None</td>\n",
       "    </tr>\n",
       "    <tr>\n",
       "      <th>2</th>\n",
       "      <td>millennia-cards</td>\n",
       "      <td>Millennia Credit Card</td>\n",
       "      <td>5% CashBack on Amazon, Flipkart, Flight &amp; Hote...</td>\n",
       "      <td>2.5% CashBack on all online spends</td>\n",
       "      <td>1% CashBack on all offline spends and wallet r...</td>\n",
       "      <td>8 Complimentary Domestic Airport Lounge access...</td>\n",
       "      <td>None</td>\n",
       "      <td>None</td>\n",
       "    </tr>\n",
       "    <tr>\n",
       "      <th>3</th>\n",
       "      <td>millennia-cards</td>\n",
       "      <td>Easy EMI Card</td>\n",
       "      <td>Automatic conversion on spends of ₹10,000 and ...</td>\n",
       "      <td>5% CashBack on Amazon &amp; Flipkart, Flight &amp; Hot...</td>\n",
       "      <td>2.5% CashBack on all online spends</td>\n",
       "      <td>1% CashBack on all offline spends and wallet r...</td>\n",
       "      <td>None</td>\n",
       "      <td>None</td>\n",
       "    </tr>\n",
       "    <tr>\n",
       "      <th>4</th>\n",
       "      <td>millennia-cards</td>\n",
       "      <td>Millennia Prepaid Card</td>\n",
       "      <td>5% CashBack on shopping via PAYZAPP &amp; SmartBUY</td>\n",
       "      <td>2.5% CashBack on all online spends</td>\n",
       "      <td>1% CashBack on all offline spends and wallet r...</td>\n",
       "      <td>Get up to Rs. 5,000 CashBack every year</td>\n",
       "      <td>None</td>\n",
       "      <td>None</td>\n",
       "    </tr>\n",
       "    <tr>\n",
       "      <th>...</th>\n",
       "      <td>...</td>\n",
       "      <td>...</td>\n",
       "      <td>...</td>\n",
       "      <td>...</td>\n",
       "      <td>...</td>\n",
       "      <td>...</td>\n",
       "      <td>...</td>\n",
       "      <td>...</td>\n",
       "    </tr>\n",
       "    <tr>\n",
       "      <th>104</th>\n",
       "      <td>commercial-credit-cards</td>\n",
       "      <td>Corporate Visa Signature Credit Card</td>\n",
       "      <td>Save up to ₹ 1,000 in every billing cycle with...</td>\n",
       "      <td>Accident Insurance cover of ₹ 1 Crore for Air ...</td>\n",
       "      <td>24x7 online MIS to keep track of your expenses</td>\n",
       "      <td>None</td>\n",
       "      <td>None</td>\n",
       "      <td>None</td>\n",
       "    </tr>\n",
       "    <tr>\n",
       "      <th>105</th>\n",
       "      <td>commercial-credit-cards</td>\n",
       "      <td>Purchase Reward Credit Card</td>\n",
       "      <td>Move all the direct expenses of your company c...</td>\n",
       "      <td>Enjoy cashback up-to 1% on your purchases*</td>\n",
       "      <td>Eliminate vast amount of paperwork for purchas...</td>\n",
       "      <td>None</td>\n",
       "      <td>None</td>\n",
       "      <td>None</td>\n",
       "    </tr>\n",
       "    <tr>\n",
       "      <th>106</th>\n",
       "      <td>commercial-credit-cards</td>\n",
       "      <td>Purchase Credit Card</td>\n",
       "      <td>Manage all your company’s direct expenses and ...</td>\n",
       "      <td>Eliminate multiple invoicing, cheque processin...</td>\n",
       "      <td>Better control on expenses using enhanced spen...</td>\n",
       "      <td>Accuracy in reconciliation</td>\n",
       "      <td>None</td>\n",
       "      <td>None</td>\n",
       "    </tr>\n",
       "    <tr>\n",
       "      <th>107</th>\n",
       "      <td>commercial-credit-cards</td>\n",
       "      <td>Central Travel Account</td>\n",
       "      <td>Facilitate centralized payment for travel acti...</td>\n",
       "      <td>Better transparency with the help of detailed ...</td>\n",
       "      <td>Enhanced travel data reports to negotiate with...</td>\n",
       "      <td>Extended payment terms upto 50 days</td>\n",
       "      <td>None</td>\n",
       "      <td>None</td>\n",
       "    </tr>\n",
       "    <tr>\n",
       "      <th>108</th>\n",
       "      <td>commercial-credit-cards</td>\n",
       "      <td>Distributor Credit Card</td>\n",
       "      <td>Distributors can use the card for purchases fr...</td>\n",
       "      <td>Improve distributor cash flow management</td>\n",
       "      <td>Simplify account reconciliation</td>\n",
       "      <td>None</td>\n",
       "      <td>None</td>\n",
       "      <td>None</td>\n",
       "    </tr>\n",
       "  </tbody>\n",
       "</table>\n",
       "<p>109 rows × 8 columns</p>\n",
       "</div>"
      ],
      "text/plain": [
       "                    Category                                 Cards  \\\n",
       "0            millennia-cards                  Millennia Debit Card   \n",
       "1            millennia-cards                 Millennia Credit Card   \n",
       "2            millennia-cards                 Millennia Credit Card   \n",
       "3            millennia-cards                         Easy EMI Card   \n",
       "4            millennia-cards                Millennia Prepaid Card   \n",
       "..                       ...                                   ...   \n",
       "104  commercial-credit-cards  Corporate Visa Signature Credit Card   \n",
       "105  commercial-credit-cards           Purchase Reward Credit Card   \n",
       "106  commercial-credit-cards                  Purchase Credit Card   \n",
       "107  commercial-credit-cards                Central Travel Account   \n",
       "108  commercial-credit-cards               Distributor Credit Card   \n",
       "\n",
       "                                                Offer1  \\\n",
       "0                  Get up to ₹4800 CashBack every year   \n",
       "1    5% Cashback on Amazon, BookMyShow, Cult.fit, F...   \n",
       "2    5% CashBack on Amazon, Flipkart, Flight & Hote...   \n",
       "3    Automatic conversion on spends of ₹10,000 and ...   \n",
       "4       5% CashBack on shopping via PAYZAPP & SmartBUY   \n",
       "..                                                 ...   \n",
       "104  Save up to ₹ 1,000 in every billing cycle with...   \n",
       "105  Move all the direct expenses of your company c...   \n",
       "106  Manage all your company’s direct expenses and ...   \n",
       "107  Facilitate centralized payment for travel acti...   \n",
       "108  Distributors can use the card for purchases fr...   \n",
       "\n",
       "                                                Offer2  \\\n",
       "0       5% CashBack on shopping via PAYZAPP & SmartBUY   \n",
       "1    1% cashback on all other spends (except Fuel) ...   \n",
       "2                   2.5% CashBack on all online spends   \n",
       "3    5% CashBack on Amazon & Flipkart, Flight & Hot...   \n",
       "4                   2.5% CashBack on all online spends   \n",
       "..                                                 ...   \n",
       "104  Accident Insurance cover of ₹ 1 Crore for Air ...   \n",
       "105         Enjoy cashback up-to 1% on your purchases*   \n",
       "106  Eliminate multiple invoicing, cheque processin...   \n",
       "107  Better transparency with the help of detailed ...   \n",
       "108           Improve distributor cash flow management   \n",
       "\n",
       "                                                Offer3  \\\n",
       "0                   2.5% CashBack on all online spends   \n",
       "1    ₹1000 worth gift vouchers on spends of ₹1,00,0...   \n",
       "2    1% CashBack on all offline spends and wallet r...   \n",
       "3                   2.5% CashBack on all online spends   \n",
       "4    1% CashBack on all offline spends and wallet r...   \n",
       "..                                                 ...   \n",
       "104     24x7 online MIS to keep track of your expenses   \n",
       "105  Eliminate vast amount of paperwork for purchas...   \n",
       "106  Better control on expenses using enhanced spen...   \n",
       "107  Enhanced travel data reports to negotiate with...   \n",
       "108                    Simplify account reconciliation   \n",
       "\n",
       "                                                Offer4 Offer5 Offer6  \n",
       "0    1% CashBack on all offline spends and Wallet r...   None   None  \n",
       "1    8 Complimentary Domestic Airport Lounge access...   None   None  \n",
       "2    8 Complimentary Domestic Airport Lounge access...   None   None  \n",
       "3    1% CashBack on all offline spends and wallet r...   None   None  \n",
       "4              Get up to Rs. 5,000 CashBack every year   None   None  \n",
       "..                                                 ...    ...    ...  \n",
       "104                                               None   None   None  \n",
       "105                                               None   None   None  \n",
       "106                         Accuracy in reconciliation   None   None  \n",
       "107                Extended payment terms upto 50 days   None   None  \n",
       "108                                               None   None   None  \n",
       "\n",
       "[109 rows x 8 columns]"
      ]
     },
     "execution_count": 30,
     "metadata": {},
     "output_type": "execute_result"
    }
   ],
   "source": [
    "category = {'Category': card_category_list}\n",
    "#category = {'Category': card_category}\n",
    "df_card_category = pd.DataFrame.from_dict(category)\n",
    "\n",
    "cards_data = {'Cards': cards}\n",
    "df_cards = pd.DataFrame.from_dict(cards_data)\n",
    "#df_cards\n",
    "\n",
    "df_offers = pd.DataFrame.from_dict(list(card_offers))\n",
    "#df_offers\n",
    "df_offers.shape\n",
    "list_of_offers = []\n",
    "for i in range(1,len(df_offers. columns)+1):\n",
    "    list_of_offers.append(\"Offer\"+str(i))\n",
    "list_of_offers\n",
    "df_offers. columns = list_of_offers   \n",
    "\n",
    "df_cards = pd.concat([df_card_category,df_cards, df_offers], axis=1)\n",
    "df_cards"
   ]
  },
  {
   "cell_type": "code",
   "execution_count": 31,
   "metadata": {},
   "outputs": [],
   "source": [
    "import pandas as pd"
   ]
  },
  {
   "cell_type": "code",
   "execution_count": 32,
   "metadata": {},
   "outputs": [],
   "source": [
    "df_cards.to_csv('/Users/Ravi/HDFC.csv')"
   ]
  },
  {
   "cell_type": "code",
   "execution_count": null,
   "metadata": {},
   "outputs": [],
   "source": []
  },
  {
   "cell_type": "code",
   "execution_count": null,
   "metadata": {},
   "outputs": [],
   "source": []
  }
 ],
 "metadata": {
  "kernelspec": {
   "display_name": "Python 3",
   "language": "python",
   "name": "python3"
  },
  "language_info": {
   "codemirror_mode": {
    "name": "ipython",
    "version": 3
   },
   "file_extension": ".py",
   "mimetype": "text/x-python",
   "name": "python",
   "nbconvert_exporter": "python",
   "pygments_lexer": "ipython3",
   "version": "3.8.3"
  }
 },
 "nbformat": 4,
 "nbformat_minor": 4
}
